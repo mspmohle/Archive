{
 "cells": [
  {
   "cell_type": "code",
   "execution_count": 17,
   "id": "1278e6db",
   "metadata": {},
   "outputs": [],
   "source": [
    "\n",
    "import requests  \n",
    "import pandas as pd\n",
    "import numpy as np\n",
    "import requests"
   ]
  },
  {
   "cell_type": "code",
   "execution_count": 18,
   "id": "71effc1f",
   "metadata": {},
   "outputs": [
    {
     "data": {
      "text/plain": [
       "(300000, 9)"
      ]
     },
     "execution_count": 18,
     "metadata": {},
     "output_type": "execute_result"
    }
   ],
   "source": [
    "# import chicago data and create dataframe\n",
    "url = ('https://video.udacity-data.com/topher/2019/February/5c747ce1_chicago/chicago.csv')\n",
    "x = requests.get(url)\n",
    "open('chicago.csv','wb').write(x.content)\n",
    "c_bike_share = pd.read_csv('chicago.csv')\n",
    "# confirm\n",
    "c_bike_share.shape"
   ]
  },
  {
   "cell_type": "code",
   "execution_count": 19,
   "id": "5d364c2f",
   "metadata": {},
   "outputs": [
    {
     "data": {
      "text/plain": [
       "(300000, 9)"
      ]
     },
     "execution_count": 19,
     "metadata": {},
     "output_type": "execute_result"
    }
   ],
   "source": [
    "# import new york data and create dataframe\n",
    "url = ('https://video.udacity-data.com/topher/2019/February/5c747d01_new-york-city/new-york-city.csv')\n",
    "x = requests.get(url)\n",
    "open('new-york-city.csv','wb').write(x.content)\n",
    "nyc_bike_share = pd.read_csv('new-york-city.csv')\n",
    "# confirm\n",
    "nyc_bike_share.shape"
   ]
  },
  {
   "cell_type": "code",
   "execution_count": 20,
   "id": "269a7e85",
   "metadata": {},
   "outputs": [
    {
     "data": {
      "text/plain": [
       "(300000, 7)"
      ]
     },
     "execution_count": 20,
     "metadata": {},
     "output_type": "execute_result"
    }
   ],
   "source": [
    "# import washington DC data and create dataframe\n",
    "url = ('https://video.udacity-data.com/topher/2019/February/5c747d10_washington/washington.csv')\n",
    "x = requests.get(url)\n",
    "open('washington.csv','wb').write(x.content)\n",
    "w_bike_share = pd.read_csv('washington.csv')\n",
    "# confirm\n",
    "w_bike_share.shape"
   ]
  },
  {
   "cell_type": "markdown",
   "id": "31c50ce3",
   "metadata": {},
   "source": [
    "## inspect dataframe heads"
   ]
  },
  {
   "cell_type": "code",
   "execution_count": 21,
   "id": "bfecbea1",
   "metadata": {},
   "outputs": [
    {
     "data": {
      "text/html": [
       "<div>\n",
       "<style scoped>\n",
       "    .dataframe tbody tr th:only-of-type {\n",
       "        vertical-align: middle;\n",
       "    }\n",
       "\n",
       "    .dataframe tbody tr th {\n",
       "        vertical-align: top;\n",
       "    }\n",
       "\n",
       "    .dataframe thead th {\n",
       "        text-align: right;\n",
       "    }\n",
       "</style>\n",
       "<table border=\"1\" class=\"dataframe\">\n",
       "  <thead>\n",
       "    <tr style=\"text-align: right;\">\n",
       "      <th></th>\n",
       "      <th>Unnamed: 0</th>\n",
       "      <th>Start Time</th>\n",
       "      <th>End Time</th>\n",
       "      <th>Trip Duration</th>\n",
       "      <th>Start Station</th>\n",
       "      <th>End Station</th>\n",
       "      <th>User Type</th>\n",
       "      <th>Gender</th>\n",
       "      <th>Birth Year</th>\n",
       "      <th>City</th>\n",
       "    </tr>\n",
       "  </thead>\n",
       "  <tbody>\n",
       "    <tr>\n",
       "      <th>0</th>\n",
       "      <td>1423854</td>\n",
       "      <td>2017-06-23 15:09:32</td>\n",
       "      <td>2017-06-23 15:14:53</td>\n",
       "      <td>321</td>\n",
       "      <td>Wood St &amp; Hubbard St</td>\n",
       "      <td>Damen Ave &amp; Chicago Ave</td>\n",
       "      <td>Subscriber</td>\n",
       "      <td>Male</td>\n",
       "      <td>1992.0</td>\n",
       "      <td>Chicago</td>\n",
       "    </tr>\n",
       "  </tbody>\n",
       "</table>\n",
       "</div>"
      ],
      "text/plain": [
       "   Unnamed: 0           Start Time             End Time  Trip Duration  \\\n",
       "0     1423854  2017-06-23 15:09:32  2017-06-23 15:14:53            321   \n",
       "\n",
       "          Start Station              End Station   User Type Gender  \\\n",
       "0  Wood St & Hubbard St  Damen Ave & Chicago Ave  Subscriber   Male   \n",
       "\n",
       "   Birth Year     City  \n",
       "0      1992.0  Chicago  "
      ]
     },
     "execution_count": 21,
     "metadata": {},
     "output_type": "execute_result"
    }
   ],
   "source": [
    "\n",
    "c_bike_share['City'] ='Chicago'\n",
    "c_bike_share.head(1)"
   ]
  },
  {
   "cell_type": "code",
   "execution_count": 22,
   "id": "eca29c26",
   "metadata": {},
   "outputs": [
    {
     "data": {
      "text/html": [
       "<div>\n",
       "<style scoped>\n",
       "    .dataframe tbody tr th:only-of-type {\n",
       "        vertical-align: middle;\n",
       "    }\n",
       "\n",
       "    .dataframe tbody tr th {\n",
       "        vertical-align: top;\n",
       "    }\n",
       "\n",
       "    .dataframe thead th {\n",
       "        text-align: right;\n",
       "    }\n",
       "</style>\n",
       "<table border=\"1\" class=\"dataframe\">\n",
       "  <thead>\n",
       "    <tr style=\"text-align: right;\">\n",
       "      <th></th>\n",
       "      <th>Unnamed: 0</th>\n",
       "      <th>Start Time</th>\n",
       "      <th>End Time</th>\n",
       "      <th>Trip Duration</th>\n",
       "      <th>Start Station</th>\n",
       "      <th>End Station</th>\n",
       "      <th>User Type</th>\n",
       "      <th>Gender</th>\n",
       "      <th>Birth Year</th>\n",
       "      <th>City</th>\n",
       "    </tr>\n",
       "  </thead>\n",
       "  <tbody>\n",
       "    <tr>\n",
       "      <th>0</th>\n",
       "      <td>5688089</td>\n",
       "      <td>2017-06-11 14:55:05</td>\n",
       "      <td>2017-06-11 15:08:21</td>\n",
       "      <td>795</td>\n",
       "      <td>Suffolk St &amp; Stanton St</td>\n",
       "      <td>W Broadway &amp; Spring St</td>\n",
       "      <td>Subscriber</td>\n",
       "      <td>Male</td>\n",
       "      <td>1998.0</td>\n",
       "      <td>New York City</td>\n",
       "    </tr>\n",
       "  </tbody>\n",
       "</table>\n",
       "</div>"
      ],
      "text/plain": [
       "   Unnamed: 0           Start Time             End Time  Trip Duration  \\\n",
       "0     5688089  2017-06-11 14:55:05  2017-06-11 15:08:21            795   \n",
       "\n",
       "             Start Station             End Station   User Type Gender  \\\n",
       "0  Suffolk St & Stanton St  W Broadway & Spring St  Subscriber   Male   \n",
       "\n",
       "   Birth Year           City  \n",
       "0      1998.0  New York City  "
      ]
     },
     "execution_count": 22,
     "metadata": {},
     "output_type": "execute_result"
    }
   ],
   "source": [
    "#add city column\n",
    "nyc_bike_share['City'] ='New York City'\n",
    "nyc_bike_share.head(1)"
   ]
  },
  {
   "cell_type": "code",
   "execution_count": 23,
   "id": "b8a7ffda",
   "metadata": {},
   "outputs": [
    {
     "data": {
      "text/html": [
       "<div>\n",
       "<style scoped>\n",
       "    .dataframe tbody tr th:only-of-type {\n",
       "        vertical-align: middle;\n",
       "    }\n",
       "\n",
       "    .dataframe tbody tr th {\n",
       "        vertical-align: top;\n",
       "    }\n",
       "\n",
       "    .dataframe thead th {\n",
       "        text-align: right;\n",
       "    }\n",
       "</style>\n",
       "<table border=\"1\" class=\"dataframe\">\n",
       "  <thead>\n",
       "    <tr style=\"text-align: right;\">\n",
       "      <th></th>\n",
       "      <th>Unnamed: 0</th>\n",
       "      <th>Start Time</th>\n",
       "      <th>End Time</th>\n",
       "      <th>Trip Duration</th>\n",
       "      <th>Start Station</th>\n",
       "      <th>End Station</th>\n",
       "      <th>User Type</th>\n",
       "      <th>Gender</th>\n",
       "      <th>Birth Year</th>\n",
       "      <th>City</th>\n",
       "    </tr>\n",
       "  </thead>\n",
       "  <tbody>\n",
       "    <tr>\n",
       "      <th>0</th>\n",
       "      <td>1621326</td>\n",
       "      <td>2017-06-21 08:36:34</td>\n",
       "      <td>2017-06-21 08:44:43</td>\n",
       "      <td>489.066</td>\n",
       "      <td>14th &amp; Belmont St NW</td>\n",
       "      <td>15th &amp; K St NW</td>\n",
       "      <td>Subscriber</td>\n",
       "      <td>na</td>\n",
       "      <td>na</td>\n",
       "      <td>Washington</td>\n",
       "    </tr>\n",
       "  </tbody>\n",
       "</table>\n",
       "</div>"
      ],
      "text/plain": [
       "   Unnamed: 0           Start Time             End Time  Trip Duration  \\\n",
       "0     1621326  2017-06-21 08:36:34  2017-06-21 08:44:43        489.066   \n",
       "\n",
       "          Start Station     End Station   User Type Gender Birth Year  \\\n",
       "0  14th & Belmont St NW  15th & K St NW  Subscriber     na         na   \n",
       "\n",
       "         City  \n",
       "0  Washington  "
      ]
     },
     "execution_count": 23,
     "metadata": {},
     "output_type": "execute_result"
    }
   ],
   "source": [
    "# create new columns (Gender & Birth Year ) for w_bike_share dataframe\n",
    "w_bike_share['Gender'] = 'na'\n",
    "w_bike_share['Birth Year'] = 'na'\n",
    "w_bike_share['City'] = 'Washington'\n",
    "w_bike_share.head(1)"
   ]
  },
  {
   "cell_type": "code",
   "execution_count": 24,
   "id": "05939339",
   "metadata": {},
   "outputs": [
    {
     "data": {
      "text/plain": [
       "(900000, 10)"
      ]
     },
     "execution_count": 24,
     "metadata": {},
     "output_type": "execute_result"
    }
   ],
   "source": [
    "frames = [c_bike_share, nyc_bike_share, w_bike_share]\n",
    "master_bike_share = pd.concat(frames)\n",
    "master_bike_share.shape"
   ]
  },
  {
   "cell_type": "code",
   "execution_count": 25,
   "id": "ab84d7b4",
   "metadata": {},
   "outputs": [
    {
     "data": {
      "text/html": [
       "<div>\n",
       "<style scoped>\n",
       "    .dataframe tbody tr th:only-of-type {\n",
       "        vertical-align: middle;\n",
       "    }\n",
       "\n",
       "    .dataframe tbody tr th {\n",
       "        vertical-align: top;\n",
       "    }\n",
       "\n",
       "    .dataframe thead th {\n",
       "        text-align: right;\n",
       "    }\n",
       "</style>\n",
       "<table border=\"1\" class=\"dataframe\">\n",
       "  <thead>\n",
       "    <tr style=\"text-align: right;\">\n",
       "      <th></th>\n",
       "      <th>Unnamed: 0</th>\n",
       "      <th>Start Time</th>\n",
       "      <th>End Time</th>\n",
       "      <th>Trip Duration</th>\n",
       "      <th>Start Station</th>\n",
       "      <th>End Station</th>\n",
       "      <th>User Type</th>\n",
       "      <th>Gender</th>\n",
       "      <th>Birth Year</th>\n",
       "      <th>City</th>\n",
       "    </tr>\n",
       "  </thead>\n",
       "  <tbody>\n",
       "    <tr>\n",
       "      <th>0</th>\n",
       "      <td>1423854</td>\n",
       "      <td>2017-06-23 15:09:32</td>\n",
       "      <td>2017-06-23 15:14:53</td>\n",
       "      <td>321.0</td>\n",
       "      <td>Wood St &amp; Hubbard St</td>\n",
       "      <td>Damen Ave &amp; Chicago Ave</td>\n",
       "      <td>Subscriber</td>\n",
       "      <td>Male</td>\n",
       "      <td>1992.0</td>\n",
       "      <td>Chicago</td>\n",
       "    </tr>\n",
       "    <tr>\n",
       "      <th>1</th>\n",
       "      <td>955915</td>\n",
       "      <td>2017-05-25 18:19:03</td>\n",
       "      <td>2017-05-25 18:45:53</td>\n",
       "      <td>1610.0</td>\n",
       "      <td>Theater on the Lake</td>\n",
       "      <td>Sheffield Ave &amp; Waveland Ave</td>\n",
       "      <td>Subscriber</td>\n",
       "      <td>Female</td>\n",
       "      <td>1992.0</td>\n",
       "      <td>Chicago</td>\n",
       "    </tr>\n",
       "    <tr>\n",
       "      <th>2</th>\n",
       "      <td>9031</td>\n",
       "      <td>2017-01-04 08:27:49</td>\n",
       "      <td>2017-01-04 08:34:45</td>\n",
       "      <td>416.0</td>\n",
       "      <td>May St &amp; Taylor St</td>\n",
       "      <td>Wood St &amp; Taylor St</td>\n",
       "      <td>Subscriber</td>\n",
       "      <td>Male</td>\n",
       "      <td>1981.0</td>\n",
       "      <td>Chicago</td>\n",
       "    </tr>\n",
       "    <tr>\n",
       "      <th>3</th>\n",
       "      <td>304487</td>\n",
       "      <td>2017-03-06 13:49:38</td>\n",
       "      <td>2017-03-06 13:55:28</td>\n",
       "      <td>350.0</td>\n",
       "      <td>Christiana Ave &amp; Lawrence Ave</td>\n",
       "      <td>St. Louis Ave &amp; Balmoral Ave</td>\n",
       "      <td>Subscriber</td>\n",
       "      <td>Male</td>\n",
       "      <td>1986.0</td>\n",
       "      <td>Chicago</td>\n",
       "    </tr>\n",
       "    <tr>\n",
       "      <th>4</th>\n",
       "      <td>45207</td>\n",
       "      <td>2017-01-17 14:53:07</td>\n",
       "      <td>2017-01-17 15:02:01</td>\n",
       "      <td>534.0</td>\n",
       "      <td>Clark St &amp; Randolph St</td>\n",
       "      <td>Desplaines St &amp; Jackson Blvd</td>\n",
       "      <td>Subscriber</td>\n",
       "      <td>Male</td>\n",
       "      <td>1975.0</td>\n",
       "      <td>Chicago</td>\n",
       "    </tr>\n",
       "  </tbody>\n",
       "</table>\n",
       "</div>"
      ],
      "text/plain": [
       "   Unnamed: 0           Start Time             End Time  Trip Duration  \\\n",
       "0     1423854  2017-06-23 15:09:32  2017-06-23 15:14:53          321.0   \n",
       "1      955915  2017-05-25 18:19:03  2017-05-25 18:45:53         1610.0   \n",
       "2        9031  2017-01-04 08:27:49  2017-01-04 08:34:45          416.0   \n",
       "3      304487  2017-03-06 13:49:38  2017-03-06 13:55:28          350.0   \n",
       "4       45207  2017-01-17 14:53:07  2017-01-17 15:02:01          534.0   \n",
       "\n",
       "                   Start Station                   End Station   User Type  \\\n",
       "0           Wood St & Hubbard St       Damen Ave & Chicago Ave  Subscriber   \n",
       "1            Theater on the Lake  Sheffield Ave & Waveland Ave  Subscriber   \n",
       "2             May St & Taylor St           Wood St & Taylor St  Subscriber   \n",
       "3  Christiana Ave & Lawrence Ave  St. Louis Ave & Balmoral Ave  Subscriber   \n",
       "4         Clark St & Randolph St  Desplaines St & Jackson Blvd  Subscriber   \n",
       "\n",
       "   Gender Birth Year     City  \n",
       "0    Male     1992.0  Chicago  \n",
       "1  Female     1992.0  Chicago  \n",
       "2    Male     1981.0  Chicago  \n",
       "3    Male     1986.0  Chicago  \n",
       "4    Male     1975.0  Chicago  "
      ]
     },
     "execution_count": 25,
     "metadata": {},
     "output_type": "execute_result"
    }
   ],
   "source": [
    "master_bike_share.head()"
   ]
  },
  {
   "cell_type": "code",
   "execution_count": 26,
   "id": "88dc5df8",
   "metadata": {},
   "outputs": [
    {
     "data": {
      "text/plain": [
       "Washington       300000\n",
       "Chicago          300000\n",
       "New York City    300000\n",
       "Name: City, dtype: int64"
      ]
     },
     "execution_count": 26,
     "metadata": {},
     "output_type": "execute_result"
    }
   ],
   "source": [
    "# confirm population of crrect values in City column\n",
    "master_bike_share['City'].value_counts()"
   ]
  },
  {
   "cell_type": "code",
   "execution_count": 32,
   "id": "6e7bc886",
   "metadata": {
    "scrolled": true
   },
   "outputs": [],
   "source": [
    "master_bike_share.to_csv('/Users/michaelmohle/Desktop/master_bike_share', index = False)"
   ]
  },
  {
   "cell_type": "code",
   "execution_count": null,
   "id": "dd5d620b",
   "metadata": {},
   "outputs": [],
   "source": []
  }
 ],
 "metadata": {
  "kernelspec": {
   "display_name": "Python 3",
   "language": "python",
   "name": "python3"
  },
  "language_info": {
   "codemirror_mode": {
    "name": "ipython",
    "version": 3
   },
   "file_extension": ".py",
   "mimetype": "text/x-python",
   "name": "python",
   "nbconvert_exporter": "python",
   "pygments_lexer": "ipython3",
   "version": "3.8.8"
  }
 },
 "nbformat": 4,
 "nbformat_minor": 5
}
